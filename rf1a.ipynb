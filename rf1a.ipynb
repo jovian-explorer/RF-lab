{
  "nbformat": 4,
  "nbformat_minor": 0,
  "metadata": {
    "colab": {
      "name": "rf1a.pynb",
      "provenance": [],
      "collapsed_sections": [],
      "authorship_tag": "ABX9TyMeCAA0d3Q8wA9t5gdV/51+",
      "include_colab_link": true
    },
    "kernelspec": {
      "name": "python3",
      "display_name": "Python 3"
    },
    "language_info": {
      "name": "python"
    }
  },
  "cells": [
    {
      "cell_type": "markdown",
      "metadata": {
        "id": "view-in-github",
        "colab_type": "text"
      },
      "source": [
        "<a href=\"https://colab.research.google.com/github/mars-orbiter/RF-lab/blob/main/rf1a.ipynb\" target=\"_parent\"><img src=\"https://colab.research.google.com/assets/colab-badge.svg\" alt=\"Open In Colab\"/></a>"
      ]
    },
    {
      "cell_type": "code",
      "source": [
        "#importing libraries required\n",
        "import pandas as pd\n",
        "import numpy as np\n",
        "import plotly.express as px\n",
        "import matplotlib.pyplot as plt\n",
        "from mpl_toolkits import mplot3d\n",
        "from scipy.optimize import curve_fit\n",
        "import scipy.optimize as so"
      ],
      "metadata": {
        "id": "mdozurU0woyA"
      },
      "execution_count": 10,
      "outputs": []
    },
    {
      "cell_type": "code",
      "source": [
        "url = 'https://raw.githubusercontent.com/mars-orbiter/RF-lab/main/rf1a.csv'\n",
        "dataset = pd.read_csv(url)\n",
        "print(dataset)"
      ],
      "metadata": {
        "colab": {
          "base_uri": "https://localhost:8080/"
        },
        "id": "LG0xj5yi3_-J",
        "outputId": "75838708-1094-407b-86d0-e24201983c8f"
      },
      "execution_count": 6,
      "outputs": [
        {
          "output_type": "stream",
          "name": "stdout",
          "text": [
            "     V0  Vlsim  Vlcalc\n",
            "0   NaN    NaN     NaN\n",
            "1   5.0    3.0    2.99\n",
            "2  10.0    6.0    5.99\n",
            "3  15.0    9.0    8.98\n",
            "4  20.0   12.0   11.98\n",
            "5  25.0   15.0   14.97\n",
            "6  30.0   18.0   17.96\n",
            "7  35.0   21.0   20.96\n",
            "8  40.0   24.0   23.95\n",
            "9  45.0   27.0   26.95\n"
          ]
        }
      ]
    },
    {
      "cell_type": "code",
      "source": [
        "# accessing the different columns of the csv dataset I made above\n",
        "dataset.columns = [\"V0\",\"Vlsim\",\"Vlcalc\"]\n",
        "#storing values for each column into a separate arrays\n",
        "V_0 = np.array(dataset.V0)                         # Values of V_0\n",
        "V_L_sim = np.array(dataset.Vlsim)                  # Values of V_L (simulated)\n",
        "V_L_calc = np.array(dataset.Vlcalc)                # Values of V_L (Calculated)\n",
        "\n",
        "#plotting the graph between V_0 and simulated values of V_L\n",
        "plt.plot(V_0, V_L_sim,'b.-')\n",
        "plt.scatter(V_0, V_L_sim, s = 10,label = \"$V_L$ Simulated \")\n",
        "\n",
        "#plotting the graph between V_0 and Calculated values of V_L\n",
        "plt.plot(V_0, V_L_sim,'r-.')\n",
        "plt.scatter(V_0, V_L_sim, s = 10,color = 'r',label = \"$V_L$ Calculated \")\n",
        "\n",
        "plt.title(\"Graph between $V_0$ and $V_L$\")\n",
        "plt.legend()\n",
        "plt.show()"
      ],
      "metadata": {
        "id": "VDuVxEoU0AfJ",
        "colab": {
          "base_uri": "https://localhost:8080/",
          "height": 283
        },
        "outputId": "f9993cd9-8b6c-45ce-c7aa-8dc26bbfe7a8"
      },
      "execution_count": 32,
      "outputs": [
        {
          "output_type": "display_data",
          "data": {
            "image/png": "[encoded data removed]",
            "text/plain": [
              "<Figure size 432x288 with 1 Axes>"
            ]
          },
          "metadata": {
            "needs_background": "light"
          }
        }
      ]
    }
  ]
}